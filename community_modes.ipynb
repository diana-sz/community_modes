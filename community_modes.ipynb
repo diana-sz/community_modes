{
 "cells": [
  {
   "cell_type": "markdown",
   "id": "34e1c373-3fc6-484e-8421-bfd5431bb745",
   "metadata": {},
   "source": [
    "# A notebook to calculate ECFMs for a small community model\n",
    "Elementary community flux modes (ECFMs) are calculated by <a href=\"https://pypi.org/project/efmtool/\">efmtool</a> from a full community matrix or matrix projected to exchange fluxes and microbe mass fractions. The input matrix can be created manually as a numpy array or by importing SBML file created with <a href=\"https://doi.org/10.1093/bioinformatics/btae153\">PyCoMo</a> using cobrapy.\n"
   ]
  },
  {
   "cell_type": "code",
   "execution_count": 1,
   "id": "04f9066c-20a7-4404-94e3-9c4eddfd1832",
   "metadata": {
    "tags": []
   },
   "outputs": [],
   "source": [
    "import efmtool\n",
    "import cobra\n",
    "import numpy as np\n",
    "import pandas as pd\n",
    "import matplotlib.pyplot as plt"
   ]
  },
  {
   "cell_type": "markdown",
   "id": "d0c602f6-b511-42a1-ac9f-41b3b7f2c519",
   "metadata": {
    "tags": []
   },
   "source": [
    "## General functions"
   ]
  },
  {
   "cell_type": "code",
   "execution_count": 2,
   "id": "da420d7f-6d1b-4f72-882a-db3b095b5ba1",
   "metadata": {
    "tags": []
   },
   "outputs": [],
   "source": [
    "def run_efmtool(matrix, rxn_names, met_names, revs=[]):\n",
    "    \"\"\"\n",
    "    run efmtool and return numpy array with fluxes\n",
    "    Args:\n",
    "        matrix: numpy array with the stoichiometric matrix\n",
    "        rxn_names: list of reaction names\n",
    "        met_names: list of metabolite names\n",
    "        revs: list of reversibilities (0 irreversible / 1 reversible). \n",
    "            If not provided, all reactions are assumed to be irreversible.\n",
    "    Returns:\n",
    "        pandas data frame with EFMs as rows and reactions as columns\n",
    "    \"\"\"\n",
    "\n",
    "    options = efmtool.get_default_options()\n",
    "    options[\"arithmetic\"] = \"fractional\"\n",
    "    options['level'] = 'WARNING'\n",
    "\n",
    "    # if reversibilities not provided, assume all reactions irreversible\n",
    "    if not revs:\n",
    "        revs = reversibilities = [0]*matrix.shape[1]\n",
    "    modes = efmtool.calculate_efms(stoichiometry = matrix,\n",
    "                                   reversibilities = revs,\n",
    "                                   reaction_names = rxn_names,\n",
    "                                   metabolite_names = met_names,\n",
    "                                   options = options)\n",
    "\n",
    "    nice_modes = make_nice_results(modes, rxn_names)\n",
    "    \n",
    "    return nice_modes"
   ]
  },
  {
   "cell_type": "code",
   "execution_count": 3,
   "id": "7cfbef56-d6c5-4aa0-8b8f-c1322109b6e9",
   "metadata": {
    "tags": []
   },
   "outputs": [],
   "source": [
    "def make_nice_results(modes, rxn_names):\n",
    "    \"\"\"\n",
    "    Convert array from efmtool into a nice pandas DataFrame\n",
    "    Args:\n",
    "        modes: numpy array with the output of \"efmtool.calculate_efms()\"\n",
    "        rxn_names: list of reaction names\n",
    "    Returns:\n",
    "        pandas data frame with EFMs as rows and reactions as columns\n",
    "    \"\"\"\n",
    "\n",
    "    # if there are no columns - no modes\n",
    "    if modes.shape[1] == 0:\n",
    "        return pd.DataFrame()\n",
    "\n",
    "    # solve \"ValueError: Big-endian buffer not supported on little-endian compiler\"\n",
    "    # modes = modes.byteswap().newbyteorder()\n",
    "\n",
    "    res = pd.DataFrame(modes.T,\n",
    "                       index = [f\"Mode{(i+1)}\" for i in range(modes.shape[1])],\n",
    "                       columns = rxn_names)\n",
    "\n",
    "    # normalize values by the column C\n",
    "    if \"C\" in res.columns:\n",
    "        res = res.div(res.C, axis = 0)\n",
    "\n",
    "    return res"
   ]
  },
  {
   "cell_type": "code",
   "execution_count": 4,
   "id": "6d6b8a17-63f2-4475-ba9b-b210084ad16a",
   "metadata": {},
   "outputs": [],
   "source": [
    "def community_matrix_sbml(cobra_model, organism_ids, mu=1):\n",
    "    \"\"\"\n",
    "    Extracts stoichiometric matrix, and lists of reaction IDs, metabolite IDs \n",
    "    and reversibilities from a cobra model. Adds bounds on growth rate and the\n",
    "    total sum of microbe fractions=1\n",
    "\n",
    "    Args:\n",
    "        cobra_model: cobrapy Model object created with PyCoMo\n",
    "        organism_ids: list of organism names used in the cobra model\n",
    "        mu: growth rate to set\n",
    "    Returns:\n",
    "        N: numpy array with the stoichiometric matrix formatted for the use with efmtool\n",
    "        rxns: list of reaction names\n",
    "        mets: list of metabolite names\n",
    "        revs: list of reversibilities (0 irreversible / 1 reversible)\n",
    "        \"\"\"\n",
    "    N = cobra.util.array.create_stoichiometric_matrix(cobra_model)\n",
    "    rxns = [r.id for r in cobra_model.reactions]\n",
    "    mets = [m.id for m in cobra_model.metabolites]\n",
    "    revs = []\n",
    "    for index, r in enumerate(cobra_model.reactions):\n",
    "        if r.lower_bound < 0:\n",
    "            if r.reversibility:\n",
    "                revs.append(1)\n",
    "            # flip irreversible reactions that only go in reverse direction\n",
    "            if not r.reversibility:\n",
    "                N[:, index] = -N[:, index]\n",
    "                revs.append(0)\n",
    "        else:\n",
    "            revs.append(0)\n",
    "\n",
    "    N, rxns, mets, revs = add_bounds_to_pycomo_matrix(N, rxns, mets, revs, mu, organism_ids)\n",
    "\n",
    "    return (N, rxns, mets, revs)"
   ]
  },
  {
   "cell_type": "code",
   "execution_count": 5,
   "id": "53ed0a8c-aaea-4966-8e87-412dfe9f6fff",
   "metadata": {},
   "outputs": [],
   "source": [
    "def add_bounds_to_pycomo_matrix(N, rxns, mets, revs, mu, member_names):\n",
    "    \"\"\"\n",
    "    Adds constraints to stoichiometric matrix extracted from PyCoMo model\n",
    "    * sum of microbe fractions = 1 -> set the value of reaction \"f_final\" to 1\n",
    "    * set growth rate -> \n",
    "        set flux of \"community_biomass\" to mu \n",
    "        update stoichiometry of \"{member}_f_biomass_met\" in \"{member}_fraction_reaction\" to mu\n",
    "    Args:\n",
    "        N: numpy array with the stoichiometric matrix extracted with cobrapy.\n",
    "            Note - irreversible reactions must be defined in the forward direction\n",
    "        rxns: list of reaction names\n",
    "        mets: list of metabolite names\n",
    "        revs: list of reversibilities (0 irreversible / 1 reversible)\n",
    "        mu: growth rate\n",
    "        member_names: list of organism names in the PyCoMo model\n",
    "    Returns:\n",
    "        N2: numpy array with the stoichiometric matrix formatted for the use with efmtool\n",
    "        rxns2: list of reaction names\n",
    "        mets2: list of metabolite names\n",
    "        revs2: list of reversibilities (0 irreversible / 1 reversible)\n",
    "    \n",
    "    \"\"\"\n",
    "    rxns2 = rxns + [\"C\"]\n",
    "    revs2 = revs + [\"0\"]\n",
    "    mets2 = mets + [\"gamma\", \"mu\"]\n",
    "\n",
    "    # add column for equality constraints\n",
    "    N2 = np.hstack([N, np.zeros((N.shape[0], 1))])\n",
    "\n",
    "    # add rows with new constraints\n",
    "    gamma_constraint = []  # fractions must sum up to 1\n",
    "    gamma_values = {\"f_final\": 1, \"C\": -1}\n",
    "\n",
    "    mu_constraint = []  # constraint on growth rate\n",
    "    mu_values = {\"community_biomass\": 1, \"C\": -mu}\n",
    "\n",
    "    for reaction in rxns2:\n",
    "        gamma_constraint.append(gamma_values.get(reaction, 0))\n",
    "        mu_constraint.append(mu_values.get(reaction, 0))\n",
    "\n",
    "    N2 = np.vstack([N2, gamma_constraint, mu_constraint])\n",
    "    \n",
    "    # update stoichiometry to change growth rate\n",
    "    for member in member_names:\n",
    "        j = rxns2.index(f\"{member}_fraction_reaction\")\n",
    "        i = mets2.index(f\"{member}_f_biomass_met\")\n",
    "        N2[i, j] = mu\n",
    "    \n",
    "    return N2, rxns2, mets2, revs2"
   ]
  },
  {
   "cell_type": "code",
   "execution_count": 6,
   "id": "a15e1562-9482-4535-8ede-39c0f4759d54",
   "metadata": {},
   "outputs": [],
   "source": [
    "def update_pycomo_growth_rate(N, rxns, mets, mu, member_names):\n",
    "    \"\"\"\n",
    "    Set growth rate of PyCoMo model - \n",
    "        * set flux of \"community_biomass\" to mu,\n",
    "        * update stoichiometry of \"{member}_f_biomass_met\" in \"{member}_fraction_reaction\" to mu\n",
    "    Args: \n",
    "        N: numpy array with the PyCoMo stoichiometric matrix preformatted with\n",
    "            \"add_bounds_to_pycomo_matrix()\"\n",
    "        rxns: list of reaction names\n",
    "        mets: list of metabolite names\n",
    "        mu: growth rate\n",
    "        member_names: list of organism names in the PyCoMo modes\n",
    "    Returns:\n",
    "        None\n",
    "    \"\"\"\n",
    "    for member in member_names:\n",
    "        j = rxns.index(f\"{member}_fraction_reaction\")\n",
    "        i = mets.index(f\"{member}_f_biomass_met\")\n",
    "        N[i, j] = mu\n",
    "\n",
    "    N[mets.index(\"mu\"), rxns.index(\"C\")] = -mu"
   ]
  },
  {
   "cell_type": "code",
   "execution_count": 7,
   "id": "840a6cb5-a73c-4f56-a436-682e8024cc63",
   "metadata": {
    "tags": []
   },
   "outputs": [],
   "source": [
    "def scan_growth_rates(mus, rxn_ids, N, rxns, mets, revs, member_names):\n",
    "    \"\"\"\n",
    "    Get minimum and maximum values for specified reactions for a range of growth rates\n",
    "    using the PyCoMo matrix\n",
    "    Args:\n",
    "        mus: array of growth rates to test\n",
    "        rxn_ids: reaction ids to collect\n",
    "        N: numpy array with the stoichiometric matrix formatted with \"add_bounds_to_pycomo_matrix()\"\n",
    "        rxns: list of reaction names\n",
    "        mets: list of metabolite names\n",
    "        revs: list of reversibilities (0 irreversible / 1 reversible)\n",
    "        member_names: list of organism names in the PyCoMo modes\n",
    "    Returns:\n",
    "        feasible_mus: list of mus for which solution exists\n",
    "        all_mins, all_maxs: dictionaries with minimum and maximum fluxes with rxn_ids as keys \n",
    "    \"\"\"\n",
    "    feasible_mus = []\n",
    "    all_mins = {}\n",
    "    all_maxs = {}\n",
    "    \n",
    "    for mu in mus:\n",
    "        update_pycomo_growth_rate(N, rxns, mets, mu, member_names)\n",
    "        efms = run_efmtool(N, rxns, mets, revs)\n",
    "    \n",
    "        if not efms.empty:\n",
    "            for one_id in rxn_ids:\n",
    "                try:\n",
    "                    all_mins[one_id].append(efms[one_id].min())\n",
    "                    all_maxs[one_id].append(efms[one_id].max())\n",
    "                except KeyError:\n",
    "                    all_mins[one_id] = [efms[one_id].min()]\n",
    "                    all_maxs[one_id] = [efms[one_id].max()]\n",
    "\n",
    "            feasible_mus.append(mu)\n",
    "\n",
    "    return feasible_mus, all_mins, all_maxs\n"
   ]
  },
  {
   "cell_type": "code",
   "execution_count": 8,
   "id": "c97d742e-4ebc-4fa0-b429-bbae3533062b",
   "metadata": {},
   "outputs": [],
   "source": [
    "def plot_projected_compositions(mus, gmins, gmaxes, vmins, vmaxes, ecfms):\n",
    "    \"\"\"\n",
    "    plot community compositions and uptakes as a function of growth rate\n",
    "    Args:\n",
    "        mus - list of growth rates to plot\n",
    "        gmins, gmaxes - lists of min and max gammas\n",
    "        vmins, vmaxes - lists of min and max uptakes\n",
    "        ecfms - dictionary of ecfms to plot with growth rates as keys and\n",
    "        a tuple with two lists (gammas and uptakes) as values.\n",
    "    \"\"\"\n",
    "    fig, axs = plt.subplots(1, 2, figsize=(9, 4))  # 1 row, 2 columns\n",
    "    size = 14\n",
    "    uni_blue = \"#0063a6\"\n",
    "\n",
    "    # First plot\n",
    "    axs[0].fill_between(mus, gmins, gmaxes, color=uni_blue)\n",
    "    axs[0].set_xlabel(\"Growth rate\", size=size)\n",
    "    axs[0].set_ylabel(\"Abundance of microbe 1\", size=size)\n",
    "    axs[0].set_title(\"Projected compositions\", size=size)\n",
    "    \n",
    "    # Second plot\n",
    "    axs[1].fill_between(mus, vmins, vmaxes, color=uni_blue)\n",
    "    axs[1].set_xlabel(\"Growth rate\", size=size)\n",
    "    axs[1].set_ylabel(\"Uptake of microbe 1\", size=size)\n",
    "    axs[1].set_title(\"Projected uptakes\", size=size)\n",
    "\n",
    "    for mu, ecx in ecfms.items():\n",
    "        mu = float(mu)\n",
    "        axs[0].scatter([mu]*len(ecx[0]), ecx[0], color=\"orange\", s=30)\n",
    "        axs[1].scatter([mu]*len(ecx[1]), ecx[1], color=\"orange\", s=30)\n",
    "    \n",
    "    plt.tight_layout()\n",
    "    plt.show()"
   ]
  },
  {
   "cell_type": "markdown",
   "id": "3dbd69f7-71d1-415b-bff4-0cd5f723ae86",
   "metadata": {},
   "source": [
    "## Model 1"
   ]
  },
  {
   "cell_type": "markdown",
   "id": "8a14c13b-f8f4-4ba3-b88f-36e0df2b654a",
   "metadata": {},
   "source": [
    "<div style=\"display: flex; gap: 20px; align-items: flex-start;\">\n",
    "  <img src=\"model1.png\" alt=\"Model 1\" style=\"width: 250px;\" />\n",
    "\n",
    "  <div style=\"text-align: center;\">\n",
    "    <h3>Full Matrix</h3>\n",
    "    <img src=\"full_matrix.png\" alt=\"Full Matrix\" style=\"width: 400px;\" />\n",
    "  </div>\n",
    "\n",
    "  <div style=\"text-align: center;\">\n",
    "    <h3>Projected Matrix</h3>\n",
    "    <img src=\"projected_matrix.png\" alt=\"Projected Matrix\" style=\"width: 350px;\" />\n",
    "  </div>\n",
    "</div>"
   ]
  },
  {
   "cell_type": "markdown",
   "id": "9b826826-bedc-47ab-890c-66c80ea5914f",
   "metadata": {},
   "source": [
    "<div class=\"alert alert-block alert-info\">\n",
    "<b>Note:</b> efmtool does not accept inequalities, so we need to add slack variables. For each inequality constraint there is a new column (labelled S[n]) with 1 for $\\leq$ and -1 for $\\geq$.  There is also an extra equality constraint for $\\gamma 1 + \\gamma2 = 1$ which adds a new row and also a column (labelled C).\n",
    "</div>."
   ]
  },
  {
   "cell_type": "code",
   "execution_count": 9,
   "id": "b2194379-f43d-4834-aa9e-479e7b7777c7",
   "metadata": {},
   "outputs": [],
   "source": [
    "def community_matrix_full(mu, u1=1, u2=1):\n",
    "    \"\"\"full stoichiometric matrix of the community\"\"\"\n",
    "    N = np.array(\n",
    "        [[-1,  0,  0,  0,  0,  0,  0,  0,  0,  0,  0,  0,  1,  0,  0,  0,  0,  0,  0],\n",
    "         [ 0,  0,  0,  0,  0,  0, -1,  0,  0,  0,  0,  0,  0,  1,  0,  0,  0,  0,  0],\n",
    "         [ 0, -1,  0,  0,  0,  0,  0,  0,  1,  0,  0,  0,  0,  0, -1,  0,  0,  0,  0],\n",
    "         [ 0,  0,  1,  0,  0,  0,  0, -1,  0,  0,  0,  0,  0,  0,  0, -1,  0,  0,  0],\n",
    "         [ 1,  0,  0, -1,  0,  0,  0,  0,  0,  0,  0,  0,  0,  0,  0,  0,  0,  0,  0],\n",
    "         [ 0,  0,  0,  1,  1,-mu,  0,  0,  0,  0,  0,  0,  0,  0,  0,  0,  0,  0,  0],\n",
    "         [ 0,  0, -1,  1,  0,  0,  0,  0,  0,  0,  0,  0,  0,  0,  0,  0,  0,  0,  0],\n",
    "         [ 0,  1,  0,  0, -1,  0,  0,  0,  0,  0,  0,  0,  0,  0,  0,  0,  0,  0,  0],\n",
    "         [ 0,  0,  0,  0,  0,  0,  1,  0,  0, -1,  0,  0,  0,  0,  0,  0,  0,  0,  0],\n",
    "         [ 0,  0,  0,  0,  0,  0,  0,  0,  0,  1,  1,-mu,  0,  0,  0,  0,  0,  0,  0],\n",
    "         [ 0,  0,  0,  0,  0,  0,  0,  0, -1,  1,  0,  0,  0,  0,  0,  0,  0,  0,  0],\n",
    "         [ 0,  0,  0,  0,  0,  0,  0,  1,  0,  0, -1,  0,  0,  0,  0,  0,  0,  0,  0],\n",
    "         [ 1,  0,  0,  0,  0,-u1,  0,  0,  0,  0,  0,  0,  0,  0,  0,  0,  1,  0,  0],\n",
    "         [ 0,  0,  0,  0,  0,  0,  1,  0,  0,  0,  0,-u2,  0,  0,  0,  0,  0,  1,  0],\n",
    "         [ 0,  0,  0,  0,  0,  1,  0,  0,  0,  0,  0,  1,  0,  0,  0,  0,  0,  0, -1]]\n",
    "    )\n",
    "\n",
    "    met_names = [\"X1\", \"X2\", \"Y1\", \"Y2\",\n",
    "                 \"S1\", \"B1\", \"P1\", \"A1\",\n",
    "                 \"S2\", \"B2\", \"P2\", \"A2\",\n",
    "                 \"v1\", \"v2\", \"gamma\"]\n",
    "    rxn_names = [\"v11\", \"v12\", \"v13\", \"v14\", \"v15\", \"g1\",\n",
    "                 \"v21\", \"v22\", \"v23\", \"v24\", \"v25\", \"g2\",\n",
    "                 \"S1\", \"S2\", \"S3\", \"S4\", \"S5\", \"S6\", \"C\"]\n",
    "\n",
    "    return (N, rxn_names, met_names)"
   ]
  },
  {
   "cell_type": "code",
   "execution_count": 10,
   "id": "63992ca6-5882-4d72-9e8c-36d42997b8e6",
   "metadata": {
    "tags": []
   },
   "outputs": [],
   "source": [
    "def community_matrix_projected(mu, u1=1, u2=1):\n",
    "    \"\"\"community stoichiometric matrix projected to exchage fluxes and composition\"\"\"\n",
    "    N = np.array(\n",
    "        [[0, -1,  0,  0,  0,  0,  1,  0, -1,  0,  0,  0,  0],\n",
    "         [0,  0,  1,  0,  0, -1,  0,  0,  0, -1,  0,  0,  0],\n",
    "         [1,  0, -1,  0,  0,  0,  0,  0,  0,  0,  0,  0,  0],\n",
    "         [1,  1,  0,-mu,  0,  0,  0,  0,  0,  0,  0,  0,  0],\n",
    "         [0,  0,  0,  0,  1,  0, -1,  0,  0,  0,  0,  0,  0],\n",
    "         [0,  0,  0,  0,  1,  1,  0,-mu,  0,  0,  0,  0,  0],\n",
    "         [1,  0,  0,-u1,  0,  0,  0,  0,  0,  0,  1,  0,  0],\n",
    "         [0,  0,  0,  0,  1,  0,  0,-u2,  0,  0,  0,  1,  0],\n",
    "         [0,  0,  0,  1,  0,  0,  0,  1,  0,  0,  0,  0, -1]])\n",
    "    rxn_names = [\"v11\", \"v12\",\"v13\",\"g1\",\"v21\",\"v22\",\"v23\",\"g2\",\"S1\",\"S2\",\"S3\",\"S4\",\"C\"]\n",
    "    met_names = [\"Y1\",\"Y2\",\"S1P1\",\"S1B1A1\",\"S2P2\",\"S2B2A2\",\"v11\",\"v21\",\"gamma\"]\n",
    "    return (N, rxn_names, met_names)"
   ]
  },
  {
   "cell_type": "code",
   "execution_count": 11,
   "id": "63a46e05-aa96-4bc9-8b67-a44be0ee683c",
   "metadata": {},
   "outputs": [],
   "source": [
    "# IDs of abundance reactions and transport reactions\n",
    "projected_ids = [\"g1\",\"g2\",\"v11\",\"v12\",\"v13\",\"v21\",\"v22\",\"v23\"]"
   ]
  },
  {
   "cell_type": "code",
   "execution_count": 12,
   "id": "797b0fde-2881-41f5-8a62-28864c4acb17",
   "metadata": {},
   "outputs": [],
   "source": [
    "# community matrix from SBML file from PyCoMo\n",
    "model = cobra.io.read_sbml_model(\"com_model_toy_fixed_growth.xml\")\n",
    "model.reactions.remove(\"abundance_reaction\")  # remove reaction for fixing composition\n",
    "# IDs of abundance reactions and transport reactions\n",
    "projected_ids_sbml = [\"org1_fraction_reaction\", \"org2_fraction_reaction\",\n",
    "                      \"org1_TP_X1\", \"org1_TP_Y1\", \"org1_TP_Y2\", \n",
    "                      \"org2_TP_X2\", \"org2_TP_Y2\", \"org2_TP_Y1\"]\n",
    "organism_ids = [\"org1\", \"org2\"]"
   ]
  },
  {
   "cell_type": "markdown",
   "id": "58585756-1fd8-4a97-baeb-93139968ae9a",
   "metadata": {},
   "source": [
    "### ECFMs for mu = 1"
   ]
  },
  {
   "cell_type": "code",
   "execution_count": 13,
   "id": "d538b91b-385b-4d16-b0ad-9e73306466b9",
   "metadata": {},
   "outputs": [],
   "source": [
    "mu = 1"
   ]
  },
  {
   "cell_type": "markdown",
   "id": "fc29d986-ab7c-41ea-b5dc-50df8057a759",
   "metadata": {},
   "source": [
    "#### from projected matrix - 4 ECFMs"
   ]
  },
  {
   "cell_type": "code",
   "execution_count": 14,
   "id": "1d4cec4d-ed58-4fc5-a332-8fbc82fd0ff5",
   "metadata": {},
   "outputs": [
    {
     "data": {
      "text/html": [
       "<div>\n",
       "<style scoped>\n",
       "    .dataframe tbody tr th:only-of-type {\n",
       "        vertical-align: middle;\n",
       "    }\n",
       "\n",
       "    .dataframe tbody tr th {\n",
       "        vertical-align: top;\n",
       "    }\n",
       "\n",
       "    .dataframe thead th {\n",
       "        text-align: right;\n",
       "    }\n",
       "</style>\n",
       "<table border=\"1\" class=\"dataframe\">\n",
       "  <thead>\n",
       "    <tr style=\"text-align: right;\">\n",
       "      <th></th>\n",
       "      <th>g1</th>\n",
       "      <th>g2</th>\n",
       "      <th>v11</th>\n",
       "      <th>v12</th>\n",
       "      <th>v13</th>\n",
       "      <th>v21</th>\n",
       "      <th>v22</th>\n",
       "      <th>v23</th>\n",
       "    </tr>\n",
       "  </thead>\n",
       "  <tbody>\n",
       "    <tr>\n",
       "      <th>Mode1</th>\n",
       "      <td>0.0</td>\n",
       "      <td>1.0</td>\n",
       "      <td>0.0</td>\n",
       "      <td>0.0</td>\n",
       "      <td>0.0</td>\n",
       "      <td>1.0</td>\n",
       "      <td>0.0</td>\n",
       "      <td>1.0</td>\n",
       "    </tr>\n",
       "    <tr>\n",
       "      <th>Mode2</th>\n",
       "      <td>0.5</td>\n",
       "      <td>0.5</td>\n",
       "      <td>0.0</td>\n",
       "      <td>0.5</td>\n",
       "      <td>0.0</td>\n",
       "      <td>0.5</td>\n",
       "      <td>0.0</td>\n",
       "      <td>0.5</td>\n",
       "    </tr>\n",
       "    <tr>\n",
       "      <th>Mode3</th>\n",
       "      <td>0.5</td>\n",
       "      <td>0.5</td>\n",
       "      <td>0.5</td>\n",
       "      <td>0.0</td>\n",
       "      <td>0.5</td>\n",
       "      <td>0.0</td>\n",
       "      <td>0.5</td>\n",
       "      <td>0.0</td>\n",
       "    </tr>\n",
       "    <tr>\n",
       "      <th>Mode4</th>\n",
       "      <td>1.0</td>\n",
       "      <td>0.0</td>\n",
       "      <td>1.0</td>\n",
       "      <td>0.0</td>\n",
       "      <td>1.0</td>\n",
       "      <td>0.0</td>\n",
       "      <td>0.0</td>\n",
       "      <td>0.0</td>\n",
       "    </tr>\n",
       "  </tbody>\n",
       "</table>\n",
       "</div>"
      ],
      "text/plain": [
       "        g1   g2  v11  v12  v13  v21  v22  v23\n",
       "Mode1  0.0  1.0  0.0  0.0  0.0  1.0  0.0  1.0\n",
       "Mode2  0.5  0.5  0.0  0.5  0.0  0.5  0.0  0.5\n",
       "Mode3  0.5  0.5  0.5  0.0  0.5  0.0  0.5  0.0\n",
       "Mode4  1.0  0.0  1.0  0.0  1.0  0.0  0.0  0.0"
      ]
     },
     "execution_count": 14,
     "metadata": {},
     "output_type": "execute_result"
    }
   ],
   "source": [
    "ecfms1_a = run_efmtool(*community_matrix_projected(mu))\n",
    "ecfms1_a[projected_ids]"
   ]
  },
  {
   "cell_type": "markdown",
   "id": "a8d294c1-9b01-4312-bfd2-62041d9ce9ae",
   "metadata": {},
   "source": [
    "#### from full matrix - 4 ECFMs"
   ]
  },
  {
   "cell_type": "code",
   "execution_count": 15,
   "id": "26b44b92-358f-494a-bf4f-262964de0692",
   "metadata": {
    "tags": []
   },
   "outputs": [
    {
     "data": {
      "text/plain": [
       "4"
      ]
     },
     "execution_count": 15,
     "metadata": {},
     "output_type": "execute_result"
    }
   ],
   "source": [
    "ecfms1_b = run_efmtool(*community_matrix_full(mu))\n",
    "ecfms1_b.shape[0]"
   ]
  },
  {
   "cell_type": "code",
   "execution_count": 16,
   "id": "aab427f4-b8c8-4b1e-b503-930b65cc6902",
   "metadata": {},
   "outputs": [
    {
     "data": {
      "text/html": [
       "<div>\n",
       "<style scoped>\n",
       "    .dataframe tbody tr th:only-of-type {\n",
       "        vertical-align: middle;\n",
       "    }\n",
       "\n",
       "    .dataframe tbody tr th {\n",
       "        vertical-align: top;\n",
       "    }\n",
       "\n",
       "    .dataframe thead th {\n",
       "        text-align: right;\n",
       "    }\n",
       "</style>\n",
       "<table border=\"1\" class=\"dataframe\">\n",
       "  <thead>\n",
       "    <tr style=\"text-align: right;\">\n",
       "      <th></th>\n",
       "      <th>g1</th>\n",
       "      <th>g2</th>\n",
       "      <th>v11</th>\n",
       "      <th>v12</th>\n",
       "      <th>v13</th>\n",
       "      <th>v21</th>\n",
       "      <th>v22</th>\n",
       "      <th>v23</th>\n",
       "    </tr>\n",
       "  </thead>\n",
       "  <tbody>\n",
       "    <tr>\n",
       "      <th>Mode1</th>\n",
       "      <td>1.0</td>\n",
       "      <td>0.0</td>\n",
       "      <td>1.0</td>\n",
       "      <td>0.0</td>\n",
       "      <td>1.0</td>\n",
       "      <td>0.0</td>\n",
       "      <td>0.0</td>\n",
       "      <td>0.0</td>\n",
       "    </tr>\n",
       "    <tr>\n",
       "      <th>Mode2</th>\n",
       "      <td>0.5</td>\n",
       "      <td>0.5</td>\n",
       "      <td>0.0</td>\n",
       "      <td>0.5</td>\n",
       "      <td>0.0</td>\n",
       "      <td>0.5</td>\n",
       "      <td>0.0</td>\n",
       "      <td>0.5</td>\n",
       "    </tr>\n",
       "    <tr>\n",
       "      <th>Mode3</th>\n",
       "      <td>0.0</td>\n",
       "      <td>1.0</td>\n",
       "      <td>0.0</td>\n",
       "      <td>0.0</td>\n",
       "      <td>0.0</td>\n",
       "      <td>1.0</td>\n",
       "      <td>0.0</td>\n",
       "      <td>1.0</td>\n",
       "    </tr>\n",
       "    <tr>\n",
       "      <th>Mode4</th>\n",
       "      <td>0.5</td>\n",
       "      <td>0.5</td>\n",
       "      <td>0.5</td>\n",
       "      <td>0.0</td>\n",
       "      <td>0.5</td>\n",
       "      <td>0.0</td>\n",
       "      <td>0.5</td>\n",
       "      <td>0.0</td>\n",
       "    </tr>\n",
       "  </tbody>\n",
       "</table>\n",
       "</div>"
      ],
      "text/plain": [
       "        g1   g2  v11  v12  v13  v21  v22  v23\n",
       "Mode1  1.0  0.0  1.0  0.0  1.0  0.0  0.0  0.0\n",
       "Mode2  0.5  0.5  0.0  0.5  0.0  0.5  0.0  0.5\n",
       "Mode3  0.0  1.0  0.0  0.0  0.0  1.0  0.0  1.0\n",
       "Mode4  0.5  0.5  0.5  0.0  0.5  0.0  0.5  0.0"
      ]
     },
     "execution_count": 16,
     "metadata": {},
     "output_type": "execute_result"
    }
   ],
   "source": [
    "ecfms1_b[projected_ids]"
   ]
  },
  {
   "cell_type": "markdown",
   "id": "75a47ff5-3cf5-4dad-be36-42d69bbcef4f",
   "metadata": {},
   "source": [
    "#### from SBML PyCoMo matrix 4 ECFMs"
   ]
  },
  {
   "cell_type": "code",
   "execution_count": 17,
   "id": "698a39ab-c0bf-4890-81d6-d0def674def5",
   "metadata": {},
   "outputs": [
    {
     "data": {
      "text/plain": [
       "4"
      ]
     },
     "execution_count": 17,
     "metadata": {},
     "output_type": "execute_result"
    }
   ],
   "source": [
    "ecfms1_c = run_efmtool(*community_matrix_sbml(model, organism_ids, mu))\n",
    "ecfms1_c.shape[0]"
   ]
  },
  {
   "cell_type": "code",
   "execution_count": 18,
   "id": "b379cbab-5370-444e-a80d-6eda40d4a8a1",
   "metadata": {},
   "outputs": [
    {
     "data": {
      "text/html": [
       "<div>\n",
       "<style scoped>\n",
       "    .dataframe tbody tr th:only-of-type {\n",
       "        vertical-align: middle;\n",
       "    }\n",
       "\n",
       "    .dataframe tbody tr th {\n",
       "        vertical-align: top;\n",
       "    }\n",
       "\n",
       "    .dataframe thead th {\n",
       "        text-align: right;\n",
       "    }\n",
       "</style>\n",
       "<table border=\"1\" class=\"dataframe\">\n",
       "  <thead>\n",
       "    <tr style=\"text-align: right;\">\n",
       "      <th></th>\n",
       "      <th>org1_fraction_reaction</th>\n",
       "      <th>org2_fraction_reaction</th>\n",
       "      <th>org1_TP_X1</th>\n",
       "      <th>org1_TP_Y1</th>\n",
       "      <th>org1_TP_Y2</th>\n",
       "      <th>org2_TP_X2</th>\n",
       "      <th>org2_TP_Y2</th>\n",
       "      <th>org2_TP_Y1</th>\n",
       "    </tr>\n",
       "  </thead>\n",
       "  <tbody>\n",
       "    <tr>\n",
       "      <th>Mode1</th>\n",
       "      <td>0.5</td>\n",
       "      <td>0.5</td>\n",
       "      <td>0.5</td>\n",
       "      <td>0.0</td>\n",
       "      <td>0.5</td>\n",
       "      <td>0.0</td>\n",
       "      <td>0.5</td>\n",
       "      <td>0.0</td>\n",
       "    </tr>\n",
       "    <tr>\n",
       "      <th>Mode2</th>\n",
       "      <td>0.5</td>\n",
       "      <td>0.5</td>\n",
       "      <td>0.0</td>\n",
       "      <td>0.5</td>\n",
       "      <td>0.0</td>\n",
       "      <td>0.5</td>\n",
       "      <td>0.0</td>\n",
       "      <td>0.5</td>\n",
       "    </tr>\n",
       "    <tr>\n",
       "      <th>Mode3</th>\n",
       "      <td>0.0</td>\n",
       "      <td>1.0</td>\n",
       "      <td>0.0</td>\n",
       "      <td>0.0</td>\n",
       "      <td>0.0</td>\n",
       "      <td>1.0</td>\n",
       "      <td>0.0</td>\n",
       "      <td>1.0</td>\n",
       "    </tr>\n",
       "    <tr>\n",
       "      <th>Mode4</th>\n",
       "      <td>1.0</td>\n",
       "      <td>0.0</td>\n",
       "      <td>1.0</td>\n",
       "      <td>0.0</td>\n",
       "      <td>1.0</td>\n",
       "      <td>0.0</td>\n",
       "      <td>0.0</td>\n",
       "      <td>0.0</td>\n",
       "    </tr>\n",
       "  </tbody>\n",
       "</table>\n",
       "</div>"
      ],
      "text/plain": [
       "       org1_fraction_reaction  org2_fraction_reaction  org1_TP_X1  org1_TP_Y1  \\\n",
       "Mode1                     0.5                     0.5         0.5         0.0   \n",
       "Mode2                     0.5                     0.5         0.0         0.5   \n",
       "Mode3                     0.0                     1.0         0.0         0.0   \n",
       "Mode4                     1.0                     0.0         1.0         0.0   \n",
       "\n",
       "       org1_TP_Y2  org2_TP_X2  org2_TP_Y2  org2_TP_Y1  \n",
       "Mode1         0.5         0.0         0.5         0.0  \n",
       "Mode2         0.0         0.5         0.0         0.5  \n",
       "Mode3         0.0         1.0         0.0         1.0  \n",
       "Mode4         1.0         0.0         0.0         0.0  "
      ]
     },
     "execution_count": 18,
     "metadata": {},
     "output_type": "execute_result"
    }
   ],
   "source": [
    "ecfms1_c[projected_ids_sbml]"
   ]
  },
  {
   "cell_type": "markdown",
   "id": "d9af799c-5559-4756-acf0-c795a3e43f3c",
   "metadata": {},
   "source": [
    "### ECXs for mu = 2"
   ]
  },
  {
   "cell_type": "code",
   "execution_count": 19,
   "id": "d39b8c97-c0d6-4578-8a9f-77950472bfbc",
   "metadata": {},
   "outputs": [],
   "source": [
    "mu = 2"
   ]
  },
  {
   "cell_type": "markdown",
   "id": "2b38263e-2914-413d-83d6-bce7cf86d829",
   "metadata": {},
   "source": [
    "#### from projected matrix - 1 ECFM"
   ]
  },
  {
   "cell_type": "code",
   "execution_count": 20,
   "id": "17424bff-4ca7-491d-aecd-0fecf058b756",
   "metadata": {
    "tags": []
   },
   "outputs": [
    {
     "data": {
      "text/html": [
       "<div>\n",
       "<style scoped>\n",
       "    .dataframe tbody tr th:only-of-type {\n",
       "        vertical-align: middle;\n",
       "    }\n",
       "\n",
       "    .dataframe tbody tr th {\n",
       "        vertical-align: top;\n",
       "    }\n",
       "\n",
       "    .dataframe thead th {\n",
       "        text-align: right;\n",
       "    }\n",
       "</style>\n",
       "<table border=\"1\" class=\"dataframe\">\n",
       "  <thead>\n",
       "    <tr style=\"text-align: right;\">\n",
       "      <th></th>\n",
       "      <th>g1</th>\n",
       "      <th>g2</th>\n",
       "      <th>v11</th>\n",
       "      <th>v12</th>\n",
       "      <th>v13</th>\n",
       "      <th>v21</th>\n",
       "      <th>v22</th>\n",
       "      <th>v23</th>\n",
       "    </tr>\n",
       "  </thead>\n",
       "  <tbody>\n",
       "    <tr>\n",
       "      <th>Mode1</th>\n",
       "      <td>0.5</td>\n",
       "      <td>0.5</td>\n",
       "      <td>0.5</td>\n",
       "      <td>0.5</td>\n",
       "      <td>0.5</td>\n",
       "      <td>0.5</td>\n",
       "      <td>0.5</td>\n",
       "      <td>0.5</td>\n",
       "    </tr>\n",
       "  </tbody>\n",
       "</table>\n",
       "</div>"
      ],
      "text/plain": [
       "        g1   g2  v11  v12  v13  v21  v22  v23\n",
       "Mode1  0.5  0.5  0.5  0.5  0.5  0.5  0.5  0.5"
      ]
     },
     "execution_count": 20,
     "metadata": {},
     "output_type": "execute_result"
    }
   ],
   "source": [
    "ecfms2_a = run_efmtool(*community_matrix_full(mu))\n",
    "ecfms2_a[projected_ids]"
   ]
  },
  {
   "cell_type": "markdown",
   "id": "302e7651-fede-485e-9240-0df9baa013ac",
   "metadata": {},
   "source": [
    "#### from full matrix - 1 ECFM"
   ]
  },
  {
   "cell_type": "code",
   "execution_count": 21,
   "id": "67c6f70c-1d15-4f6d-ac37-25ec89df7892",
   "metadata": {},
   "outputs": [
    {
     "data": {
      "text/html": [
       "<div>\n",
       "<style scoped>\n",
       "    .dataframe tbody tr th:only-of-type {\n",
       "        vertical-align: middle;\n",
       "    }\n",
       "\n",
       "    .dataframe tbody tr th {\n",
       "        vertical-align: top;\n",
       "    }\n",
       "\n",
       "    .dataframe thead th {\n",
       "        text-align: right;\n",
       "    }\n",
       "</style>\n",
       "<table border=\"1\" class=\"dataframe\">\n",
       "  <thead>\n",
       "    <tr style=\"text-align: right;\">\n",
       "      <th></th>\n",
       "      <th>g1</th>\n",
       "      <th>g2</th>\n",
       "      <th>v11</th>\n",
       "      <th>v12</th>\n",
       "      <th>v13</th>\n",
       "      <th>v21</th>\n",
       "      <th>v22</th>\n",
       "      <th>v23</th>\n",
       "    </tr>\n",
       "  </thead>\n",
       "  <tbody>\n",
       "    <tr>\n",
       "      <th>Mode1</th>\n",
       "      <td>0.5</td>\n",
       "      <td>0.5</td>\n",
       "      <td>0.5</td>\n",
       "      <td>0.5</td>\n",
       "      <td>0.5</td>\n",
       "      <td>0.5</td>\n",
       "      <td>0.5</td>\n",
       "      <td>0.5</td>\n",
       "    </tr>\n",
       "  </tbody>\n",
       "</table>\n",
       "</div>"
      ],
      "text/plain": [
       "        g1   g2  v11  v12  v13  v21  v22  v23\n",
       "Mode1  0.5  0.5  0.5  0.5  0.5  0.5  0.5  0.5"
      ]
     },
     "execution_count": 21,
     "metadata": {},
     "output_type": "execute_result"
    }
   ],
   "source": [
    "ecfms2_b = run_efmtool(*community_matrix_full(mu))\n",
    "ecfms2_b[projected_ids]"
   ]
  },
  {
   "cell_type": "markdown",
   "id": "6cc850f9-a022-450e-b427-62e6b7068ed0",
   "metadata": {},
   "source": [
    "#### from SBML PyCoMo matrix - 1 ECFM"
   ]
  },
  {
   "cell_type": "code",
   "execution_count": 22,
   "id": "112ff865-9b21-43e9-8bbf-77654c1ffec3",
   "metadata": {},
   "outputs": [
    {
     "data": {
      "text/html": [
       "<div>\n",
       "<style scoped>\n",
       "    .dataframe tbody tr th:only-of-type {\n",
       "        vertical-align: middle;\n",
       "    }\n",
       "\n",
       "    .dataframe tbody tr th {\n",
       "        vertical-align: top;\n",
       "    }\n",
       "\n",
       "    .dataframe thead th {\n",
       "        text-align: right;\n",
       "    }\n",
       "</style>\n",
       "<table border=\"1\" class=\"dataframe\">\n",
       "  <thead>\n",
       "    <tr style=\"text-align: right;\">\n",
       "      <th></th>\n",
       "      <th>org1_fraction_reaction</th>\n",
       "      <th>org2_fraction_reaction</th>\n",
       "      <th>org1_TP_X1</th>\n",
       "      <th>org1_TP_Y1</th>\n",
       "      <th>org1_TP_Y2</th>\n",
       "      <th>org2_TP_X2</th>\n",
       "      <th>org2_TP_Y2</th>\n",
       "      <th>org2_TP_Y1</th>\n",
       "    </tr>\n",
       "  </thead>\n",
       "  <tbody>\n",
       "    <tr>\n",
       "      <th>Mode1</th>\n",
       "      <td>0.5</td>\n",
       "      <td>0.5</td>\n",
       "      <td>0.5</td>\n",
       "      <td>0.5</td>\n",
       "      <td>0.5</td>\n",
       "      <td>0.5</td>\n",
       "      <td>0.5</td>\n",
       "      <td>0.5</td>\n",
       "    </tr>\n",
       "  </tbody>\n",
       "</table>\n",
       "</div>"
      ],
      "text/plain": [
       "       org1_fraction_reaction  org2_fraction_reaction  org1_TP_X1  org1_TP_Y1  \\\n",
       "Mode1                     0.5                     0.5         0.5         0.5   \n",
       "\n",
       "       org1_TP_Y2  org2_TP_X2  org2_TP_Y2  org2_TP_Y1  \n",
       "Mode1         0.5         0.5         0.5         0.5  "
      ]
     },
     "execution_count": 22,
     "metadata": {},
     "output_type": "execute_result"
    }
   ],
   "source": [
    "ecfms2_c = run_efmtool(*community_matrix_sbml(model, organism_ids, mu))\n",
    "ecfms2_c[projected_ids_sbml]"
   ]
  },
  {
   "cell_type": "markdown",
   "id": "2203196c-69d9-4e20-8e3c-a4570e749e19",
   "metadata": {
    "tags": []
   },
   "source": [
    "### Space of possible compositions and uptakes calculated with SBML PyCoMo matrix"
   ]
  },
  {
   "cell_type": "code",
   "execution_count": 23,
   "id": "b0374b01-10c3-4b21-9133-12c00c2cd299",
   "metadata": {},
   "outputs": [],
   "source": [
    "mus = np.concatenate(([0, 0.5], np.arange(1, 2, 0.1), [2]))"
   ]
  },
  {
   "cell_type": "code",
   "execution_count": 24,
   "id": "af248c1b-1a67-4384-b0a0-e55667e1a634",
   "metadata": {},
   "outputs": [
    {
     "data": {
      "image/png": "[encoded data removed]",
      "text/plain": [
       "<Figure size 900x400 with 2 Axes>"
      ]
     },
     "metadata": {},
     "output_type": "display_data"
    }
   ],
   "source": [
    "gamma_rxn_id = \"org1_fraction_reaction\"\n",
    "uptake_rxn_id = \"org1_TP_X1\"\n",
    "\n",
    "ecxs = {\"1.0\": (ecfms1_c[gamma_rxn_id], ecfms1_c[uptake_rxn_id]),\n",
    "        \"2.0\": (ecfms2_c[gamma_rxn_id], ecfms2_c[uptake_rxn_id])}\n",
    "N, rxns, mets, revs = community_matrix_sbml(model, organism_ids)\n",
    "feasible_mus, all_mins, all_maxs = scan_growth_rates(mus, \n",
    "                                                     [gamma_rxn_id, uptake_rxn_id],\n",
    "                                                     N, rxns, mets, revs, organism_ids)\n",
    "plot_projected_compositions(feasible_mus,\n",
    "                            all_mins[gamma_rxn_id], \n",
    "                            all_maxs[gamma_rxn_id], \n",
    "                            all_mins[uptake_rxn_id], \n",
    "                            all_maxs[uptake_rxn_id],                     \n",
    "                            ecxs)"
   ]
  },
  {
   "cell_type": "markdown",
   "id": "1433b0fd-fe79-43fe-8b72-9057f95fcf62",
   "metadata": {},
   "source": [
    "The blue areas represent the space of all possible compositions and uptake behaviours. The yellow points are ECFMs calculated for growth rates 1 and 2. "
   ]
  },
  {
   "cell_type": "code",
   "execution_count": null,
   "id": "6e9a9b2f-c9b5-4120-91ab-7c525d723674",
   "metadata": {},
   "outputs": [],
   "source": []
  }
 ],
 "metadata": {
  "kernelspec": {
   "display_name": "comms",
   "language": "python",
   "name": "comms"
  },
  "language_info": {
   "codemirror_mode": {
    "name": "ipython",
    "version": 3
   },
   "file_extension": ".py",
   "mimetype": "text/x-python",
   "name": "python",
   "nbconvert_exporter": "python",
   "pygments_lexer": "ipython3",
   "version": "3.13.2"
  }
 },
 "nbformat": 4,
 "nbformat_minor": 5
}
